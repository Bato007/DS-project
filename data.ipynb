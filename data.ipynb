{
 "cells": [
  {
   "cell_type": "markdown",
   "metadata": {},
   "source": [
    "Universidad del Valle de Guatemala"
   ]
  },
  {
   "cell_type": "markdown",
   "metadata": {},
   "source": [
    "## Proyecto: Data Science"
   ]
  },
  {
   "cell_type": "markdown",
   "metadata": {},
   "source": [
    "Andrea Amaya 19357 | Brandon Hernández\t 19376 |\t\tMartin Amado\t19020 |   Juan Pablo Pineda 19087"
   ]
  },
  {
   "cell_type": "code",
   "execution_count": null,
   "metadata": {},
   "outputs": [],
   "source": [
    "# run once\n",
    "import glob, os\n",
    "os.chdir('./cvs_data')"
   ]
  },
  {
   "cell_type": "code",
   "execution_count": null,
   "metadata": {},
   "outputs": [],
   "source": [
    "import pandas as pd \n",
    "import re\n",
    "import numpy as np\n",
    "pd.options.display.max_columns = None\n",
    "pd.options.mode.chained_assignment = None "
   ]
  },
  {
   "cell_type": "code",
   "execution_count": null,
   "metadata": {},
   "outputs": [],
   "source": [
    "data_frames = []\n",
    "for file in glob.glob('*.csv'):\n",
    "  data_frames.append(pd.read_csv(file, encoding='utf-8'))\n",
    "data = pd.concat(data_frames, ignore_index=True)\n",
    "data = data.apply(lambda x: x.astype(str).str.lower()) # Todo a minusculas"
   ]
  },
  {
   "cell_type": "code",
   "execution_count": null,
   "metadata": {},
   "outputs": [],
   "source": [
    "data"
   ]
  },
  {
   "cell_type": "markdown",
   "metadata": {},
   "source": [
    "#### Limpiando los numeros de telefono"
   ]
  },
  {
   "cell_type": "code",
   "execution_count": null,
   "metadata": {},
   "outputs": [],
   "source": [
    "def cleanNumbers(number):\n",
    "    countingNumbers = 0\n",
    "    if len(number) == 8 and number.isdigit():\n",
    "        return [number]\n",
    "    for possibleNumber in number:\n",
    "        if not possibleNumber.isdigit():\n",
    "            # Si el delimitador es un - y habian 4 digitos antes\n",
    "            if (possibleNumber == '-' and countingNumbers <= 4):\n",
    "                # Se remueve el -\n",
    "                number = number.replace('-', '', 1) # Se reemplaza el primer -\n",
    "                countingNumbers = 0\n",
    "            else:\n",
    "                # Si no es un numero, se intenta separar los digitos por ese delimitador\n",
    "                separatedNumbers = number.split(possibleNumber)\n",
    "                separatedNumbers = [sep.replace(\" \", \"\") for sep in separatedNumbers] # Removiendo posibles espacios\n",
    "                separatedNumbers = [sep.replace(\"-\", \"\") for sep in separatedNumbers] # Removiendo posibles guiones\n",
    "\n",
    "\n",
    "                correctNumbers = []\n",
    "                # Por cada numero\n",
    "                for newNumber in separatedNumbers:\n",
    "                    # Si la longitud es de 8 caracteres, es un numero correcto\n",
    "                    if len(newNumber) == 8:\n",
    "                        correctNumbers.append(newNumber)\n",
    "                    # Si la longitud es de 2, es posible que sean varios numeros\n",
    "                    elif len(newNumber) == 2 and len(correctNumbers) >= 1:\n",
    "                        lastAddedNumber = correctNumbers[len(correctNumbers) - 1]\n",
    "                        twoLastDigits = int(lastAddedNumber[-2:])\n",
    "                        newNumber = int(newNumber)\n",
    "                        # Si el delimitador es un /\n",
    "                        if possibleNumber == '/':\n",
    "                            correctNumbers.append(lastAddedNumber[:6] + '' + str(newNumber))\n",
    "                        # Si el delimitador es un -\n",
    "                        elif possibleNumber == '-':\n",
    "                            while (twoLastDigits < newNumber):\n",
    "                                twoLastDigits += 1\n",
    "                                correctNumbers.append(lastAddedNumber[:6] + '' + str(twoLastDigits))\n",
    "                \n",
    "                if (len(correctNumbers) == 0 and number != 'nan'):\n",
    "                    print('OOPS! Se retorna [], el valor recibido fue: ', number)\n",
    "                return correctNumbers\n",
    "        else:\n",
    "            countingNumbers += 1"
   ]
  },
  {
   "cell_type": "code",
   "execution_count": null,
   "metadata": {},
   "outputs": [],
   "source": [
    "for index, row in data.iterrows():\n",
    "    row[\"TELEFONO\"] = cleanNumbers(row[\"TELEFONO\"])\n",
    "\n",
    "# Se crea n rows como n numeros hayan\n",
    "data = data.explode('TELEFONO')"
   ]
  },
  {
   "cell_type": "code",
   "execution_count": null,
   "metadata": {},
   "outputs": [],
   "source": [
    "data.shape[0]"
   ]
  },
  {
   "cell_type": "markdown",
   "metadata": {},
   "source": [
    "#### Limpieza municipios (revision de que no hayan repetidos)"
   ]
  },
  {
   "cell_type": "code",
   "execution_count": null,
   "metadata": {},
   "outputs": [],
   "source": [
    "data['MUNICIPIO'].unique()"
   ]
  },
  {
   "cell_type": "markdown",
   "metadata": {},
   "source": [
    "#### Limpieza (revision de que no hayan repetidos)"
   ]
  },
  {
   "cell_type": "markdown",
   "metadata": {},
   "source": [
    "<style>\n",
    "td {\n",
    "  font-size: 12px\n",
    "}\n",
    "</style>\n",
    "### \n",
    "|VARIABLE|VALORES|\n",
    "| --- | --- |\n",
    "|DEPARTAMENTO|alta verapaz |\n",
    "|NIVEL|diversificado |\n",
    "|SECTOR|'privado', 'oficial', 'municipal', 'cooperativa' |\n",
    "|AREA|'urbana', 'rural', 'sin especificar'|\n",
    "|STATUS|'abierta', 'cerrada temporalmente', 'temporal nombramiento', 'temporal titulos'|\n",
    "|MODALIDAD|'monolingue', 'bilingue'|\n",
    "|JORNADA|'matutina', 'vespertina', 'doble', 'nocturna', 'sin jornada', 'intermedia'|\n",
    "|PLAN|'diario(regular)', 'fin de semana', 'a distancia', 'semipresencial', 'virtual a distancia', 'sabatino', 'semipresencial (fin de semana)', 'dominical', 'mixto', |\n",
    "|DEPARTAMENTAL|alta verapaz|\n",
    "### \n"
   ]
  },
  {
   "cell_type": "markdown",
   "metadata": {},
   "source": [
    "#### Limpieza departamentos (revision de que no hayan repetidos)"
   ]
  },
  {
   "cell_type": "code",
   "execution_count": null,
   "metadata": {},
   "outputs": [],
   "source": [
    "# Si cuenta con los 23 departamentos\n",
    "data['DEPARTAMENTO'].unique()"
   ]
  },
  {
   "cell_type": "code",
   "execution_count": null,
   "metadata": {},
   "outputs": [],
   "source": [
    "# Se cuenta con el nivel diversificado\n",
    "data['NIVEL'].unique()"
   ]
  },
  {
   "cell_type": "code",
   "execution_count": null,
   "metadata": {},
   "outputs": [],
   "source": [
    "# Se cuenta con los sectores especificos\n",
    "data['SECTOR'].unique()"
   ]
  },
  {
   "cell_type": "code",
   "execution_count": null,
   "metadata": {},
   "outputs": [],
   "source": [
    "# Se cuenta con las areas especificas\n",
    "data['AREA'].unique()"
   ]
  },
  {
   "cell_type": "code",
   "execution_count": null,
   "metadata": {},
   "outputs": [],
   "source": [
    "# Se cuenta con los estatus especificos\n",
    "data['STATUS'].unique()"
   ]
  },
  {
   "cell_type": "code",
   "execution_count": null,
   "metadata": {},
   "outputs": [],
   "source": [
    "# Se cuenta con las modalidades especificas\n",
    "data['MODALIDAD'].unique()"
   ]
  },
  {
   "cell_type": "code",
   "execution_count": null,
   "metadata": {},
   "outputs": [],
   "source": [
    "# Se cuenta con las jornadas especificas\n",
    "data['JORNADA'].unique()"
   ]
  },
  {
   "cell_type": "code",
   "execution_count": null,
   "metadata": {},
   "outputs": [],
   "source": [
    "data['DEPARTAMENTAL'].unique()"
   ]
  },
  {
   "cell_type": "markdown",
   "metadata": {},
   "source": [
    "### Datos a limpiar en la columna direccion\n",
    "Aparecen los siguientes errores:\n",
    "    * avaenida\n",
    "    * av. sera cambiado por avenida\n",
    "    * 3ra. sera cambiado por 3a.\n",
    "    * 1a sera cambiado por 1a.\n",
    "    * Comillas simples seran cambiadas a comillas dobles\n",
    "    * 11avenida\n",
    "    * 1a, sera cambiado por 1a.\n",
    "    * 5ta / 5ta. sera cambiado por 3a.\n",
    "    "
   ]
  },
  {
   "cell_type": "code",
   "execution_count": null,
   "metadata": {},
   "outputs": [],
   "source": [
    "# pd.set_option(\"display.max_rows\", None, \"display.max_columns\", None)\n",
    "\n",
    "data['DIRECCION']\n"
   ]
  },
  {
   "cell_type": "markdown",
   "metadata": {},
   "source": [
    "### Datos a limpiar en la columna supervisor\n",
    "Aparecen los siguientes errores:\n",
    "    * se elimino el distrito\n",
    "    * vacante vacante\n",
    "    * 'nan'\n",
    "    * 'juan carlos morales gonzalez', 'juan carlos morales gonzález',\n",
    "    * 'augusto manuel andres sebastian',  'augusto manuel andrés sebastián',\n"
   ]
  },
  {
   "cell_type": "code",
   "execution_count": null,
   "metadata": {},
   "outputs": [],
   "source": [
    "data['SUPERVISOR'] = data['SUPERVISOR'].str.normalize('NFKD').str.encode('ascii', errors='ignore').str.decode('utf-8')\n",
    "data = data.replace('nan', np.nan)\n",
    "data = data.replace('vacante vacante', np.nan)\n",
    "data = data[data['SUPERVISOR'] != 'se elimino el distrito'] # Si se eliminó, no se necesita la data"
   ]
  },
  {
   "cell_type": "code",
   "execution_count": null,
   "metadata": {},
   "outputs": [],
   "source": [
    "data['SUPERVISOR'].unique()"
   ]
  }
 ],
 "metadata": {
  "kernelspec": {
   "display_name": "Python 3.7.0 64-bit",
   "language": "python",
   "name": "python3"
  },
  "language_info": {
   "codemirror_mode": {
    "name": "ipython",
    "version": 3
   },
   "file_extension": ".py",
   "mimetype": "text/x-python",
   "name": "python",
   "nbconvert_exporter": "python",
   "pygments_lexer": "ipython3",
   "version": "3.7.0"
  },
  "orig_nbformat": 4,
  "vscode": {
   "interpreter": {
    "hash": "8fa13260b2ad5da8a92d4362f230c03eee7b3dfd5b47a73cfd4853277a201fcb"
   }
  }
 },
 "nbformat": 4,
 "nbformat_minor": 2
}
