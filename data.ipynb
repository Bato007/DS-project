{
 "cells": [
  {
   "cell_type": "markdown",
   "metadata": {},
   "source": [
    "Universidad del Valle de Guatemala"
   ]
  },
  {
   "cell_type": "markdown",
   "metadata": {},
   "source": [
    "## Proyecto: Data Science"
   ]
  },
  {
   "cell_type": "markdown",
   "metadata": {},
   "source": [
    "Andrea Amaya 19357 | Brandon Hernández\t 19376 |\t\tMartin Amado\t19020 |   Juan Pablo Pineda 19087"
   ]
  },
  {
   "cell_type": "code",
   "execution_count": null,
   "metadata": {},
   "outputs": [],
   "source": [
    "# run once\n",
    "import glob, os\n",
    "os.chdir('./cvs_data')"
   ]
  },
  {
   "cell_type": "code",
   "execution_count": null,
   "metadata": {},
   "outputs": [],
   "source": [
    "import pandas as pd \n",
    "import re\n",
    "pd.options.display.max_columns = None\n",
    "pd.options.mode.chained_assignment = None "
   ]
  },
  {
   "cell_type": "code",
   "execution_count": null,
   "metadata": {},
   "outputs": [],
   "source": [
    "data_frames = []\n",
    "for file in glob.glob('*.csv'):\n",
    "  print(file.split('.').pop(0))\n",
    "  data_frames.append(pd.read_csv(file, encoding='utf-8'))"
   ]
  },
  {
   "cell_type": "code",
   "execution_count": null,
   "metadata": {},
   "outputs": [],
   "source": [
    "df1 = data_frames[0]\n",
    "df1 = df1.apply(lambda x: x.astype(str).str.lower()) # Todo a minusculas\n",
    "df1.shape[0]"
   ]
  },
  {
   "cell_type": "markdown",
   "metadata": {},
   "source": [
    "#### Limpiando los numeros de telefono"
   ]
  },
  {
   "cell_type": "code",
   "execution_count": null,
   "metadata": {},
   "outputs": [],
   "source": [
    "def cleanNumbers(number):\n",
    "    result =  re.sub(\"[^0-9]\", \"\", number) # Dejar solo los numeros\n",
    "\n",
    "    # Cada numero de celular es de 8 digitos\n",
    "    n = 8 \n",
    "    possibleNumbers = [result[i:i+n] for i in range(0, len(result), n)]\n",
    "\n",
    "    # Revisar que la validacion sea correcta\n",
    "    for number in possibleNumbers:\n",
    "        if len(str(number)) != 8:\n",
    "            print('Opps! Fallo la validacion de numeros', number)\n",
    "            return False\n",
    "    \n",
    "    return possibleNumbers"
   ]
  },
  {
   "cell_type": "code",
   "execution_count": null,
   "metadata": {},
   "outputs": [],
   "source": [
    "\n",
    "for index, row in df1.iterrows():\n",
    "    resultPhone = cleanNumbers(row[\"TELEFONO\"])\n",
    "    if(resultPhone != False):\n",
    "        row[\"TELEFONO\"] = resultPhone\n",
    "\n",
    "df1 = df1.explode('TELEFONO')"
   ]
  },
  {
   "cell_type": "code",
   "execution_count": null,
   "metadata": {},
   "outputs": [],
   "source": [
    "df1.shape[0]"
   ]
  }
 ],
 "metadata": {
  "kernelspec": {
   "display_name": "Python 3.7.0 64-bit",
   "language": "python",
   "name": "python3"
  },
  "language_info": {
   "codemirror_mode": {
    "name": "ipython",
    "version": 3
   },
   "file_extension": ".py",
   "mimetype": "text/x-python",
   "name": "python",
   "nbconvert_exporter": "python",
   "pygments_lexer": "ipython3",
   "version": "3.7.0"
  },
  "orig_nbformat": 4,
  "vscode": {
   "interpreter": {
    "hash": "8fa13260b2ad5da8a92d4362f230c03eee7b3dfd5b47a73cfd4853277a201fcb"
   }
  }
 },
 "nbformat": 4,
 "nbformat_minor": 2
}
