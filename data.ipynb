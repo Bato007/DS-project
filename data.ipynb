{
 "cells": [
  {
   "cell_type": "markdown",
   "metadata": {},
   "source": [
    "Universidad del Valle de Guatemala"
   ]
  },
  {
   "cell_type": "markdown",
   "metadata": {},
   "source": [
    "## Proyecto: Data Science"
   ]
  },
  {
   "cell_type": "markdown",
   "metadata": {},
   "source": [
    "Andrea Amaya 19357 | Brandon Hernández\t 19376 |\t\tMartin Amado\t19020 |   Juan Pablo Pineda 19087"
   ]
  },
  {
   "cell_type": "code",
   "execution_count": null,
   "metadata": {},
   "outputs": [],
   "source": [
    "# run once\n",
    "import glob, os\n",
    "os.chdir('./cvs_data')"
   ]
  },
  {
   "cell_type": "code",
   "execution_count": null,
   "metadata": {},
   "outputs": [],
   "source": [
    "import pandas as pd \n",
    "import re\n",
    "import numpy as np\n",
    "pd.options.display.max_columns = None\n",
    "pd.options.mode.chained_assignment = None "
   ]
  },
  {
   "cell_type": "code",
   "execution_count": null,
   "metadata": {},
   "outputs": [],
   "source": [
    "data_frames = []\n",
    "for file in glob.glob('*.csv'):\n",
    "  data_frames.append(pd.read_csv(file, encoding='utf-8'))\n",
    "data = pd.concat(data_frames, ignore_index=True)\n",
    "data = data.apply(lambda x: x.astype(str).str.lower()) # Todo a minusculas"
   ]
  },
  {
   "cell_type": "code",
   "execution_count": null,
   "metadata": {},
   "outputs": [],
   "source": [
    "os.chdir(\"..\")"
   ]
  },
  {
   "cell_type": "code",
   "execution_count": null,
   "metadata": {},
   "outputs": [],
   "source": [
    "data"
   ]
  },
  {
   "cell_type": "markdown",
   "metadata": {},
   "source": [
    "#### Limpiando los numeros de telefono"
   ]
  },
  {
   "cell_type": "code",
   "execution_count": null,
   "metadata": {},
   "outputs": [],
   "source": [
    "def cleanNumbers(number):\n",
    "    countingNumbers = 0\n",
    "    if len(number) == 8 and number.isdigit():\n",
    "        return [number]\n",
    "    for possibleNumber in number:\n",
    "        if not possibleNumber.isdigit():\n",
    "            # Si el delimitador es un - y habian 4 digitos antes\n",
    "            if (possibleNumber == '-' and countingNumbers <= 4):\n",
    "                # Se remueve el -\n",
    "                number = number.replace('-', '', 1) # Se reemplaza el primer -\n",
    "                countingNumbers = 0\n",
    "            else:\n",
    "                # Si no es un numero, se intenta separar los digitos por ese delimitador\n",
    "                separatedNumbers = number.split(possibleNumber)\n",
    "                separatedNumbers = [sep.replace(\" \", \"\") for sep in separatedNumbers] # Removiendo posibles espacios\n",
    "                separatedNumbers = [sep.replace(\"-\", \"\") for sep in separatedNumbers] # Removiendo posibles guiones\n",
    "\n",
    "\n",
    "                correctNumbers = []\n",
    "                # Por cada numero\n",
    "                for newNumber in separatedNumbers:\n",
    "                    # Si la longitud es de 8 caracteres, es un numero correcto\n",
    "                    if len(newNumber) == 8:\n",
    "                        correctNumbers.append(newNumber)\n",
    "                    # Si la longitud es de 2, es posible que sean varios numeros\n",
    "                    elif len(newNumber) == 2 and len(correctNumbers) >= 1:\n",
    "                        lastAddedNumber = correctNumbers[len(correctNumbers) - 1]\n",
    "                        twoLastDigits = int(lastAddedNumber[-2:])\n",
    "                        newNumber = int(newNumber)\n",
    "                        # Si el delimitador es un /\n",
    "                        if possibleNumber == '/':\n",
    "                            correctNumbers.append(lastAddedNumber[:6] + '' + str(newNumber))\n",
    "                        # Si el delimitador es un -\n",
    "                        elif possibleNumber == '-':\n",
    "                            while (twoLastDigits < newNumber):\n",
    "                                twoLastDigits += 1\n",
    "                                correctNumbers.append(lastAddedNumber[:6] + '' + str(twoLastDigits))\n",
    "                \n",
    "                if (len(correctNumbers) == 0 and number != 'nan'):\n",
    "                    print('OOPS! Se retorna [], el valor recibido fue: ', number)\n",
    "                return correctNumbers\n",
    "        else:\n",
    "            countingNumbers += 1"
   ]
  },
  {
   "cell_type": "code",
   "execution_count": null,
   "metadata": {},
   "outputs": [],
   "source": [
    "for index, row in data.iterrows():\n",
    "    row[\"TELEFONO\"] = cleanNumbers(row[\"TELEFONO\"])\n",
    "\n",
    "# Se crea n rows como n numeros hayan\n",
    "data = data.explode('TELEFONO')"
   ]
  },
  {
   "cell_type": "code",
   "execution_count": null,
   "metadata": {},
   "outputs": [],
   "source": [
    "data.shape[0]"
   ]
  },
  {
   "cell_type": "markdown",
   "metadata": {},
   "source": [
    "#### Limpieza municipios (revision de que no hayan repetidos)"
   ]
  },
  {
   "cell_type": "code",
   "execution_count": null,
   "metadata": {},
   "outputs": [],
   "source": [
    "data['MUNICIPIO'].unique()"
   ]
  },
  {
   "cell_type": "markdown",
   "metadata": {},
   "source": [
    "#### Limpieza (revision de que no hayan repetidos)"
   ]
  },
  {
   "cell_type": "markdown",
   "metadata": {},
   "source": [
    "<style>\n",
    "td {\n",
    "  font-size: 12px\n",
    "}\n",
    "</style>\n",
    "### \n",
    "|VARIABLE|VALORES|\n",
    "| --- | --- |\n",
    "|DEPARTAMENTO|alta verapaz |\n",
    "|NIVEL|diversificado |\n",
    "|SECTOR|'privado', 'oficial', 'municipal', 'cooperativa' |\n",
    "|AREA|'urbana', 'rural', 'sin especificar'|\n",
    "|STATUS|'abierta', 'cerrada temporalmente', 'temporal nombramiento', 'temporal titulos'|\n",
    "|MODALIDAD|'monolingue', 'bilingue'|\n",
    "|JORNADA|'matutina', 'vespertina', 'doble', 'nocturna', 'sin jornada', 'intermedia'|\n",
    "|PLAN|'diario(regular)', 'fin de semana', 'a distancia', 'semipresencial', 'virtual a distancia', 'sabatino', 'semipresencial (fin de semana)', 'dominical', 'mixto', |\n",
    "|DEPARTAMENTAL|alta verapaz|\n",
    "### \n"
   ]
  },
  {
   "cell_type": "markdown",
   "metadata": {},
   "source": [
    "#### Limpieza departamentos (revision de que no hayan repetidos)"
   ]
  },
  {
   "cell_type": "code",
   "execution_count": null,
   "metadata": {},
   "outputs": [],
   "source": [
    "# Si cuenta con los 22 departamentos + ciudad capital\r\n",
    "data['DEPARTAMENTO'].unique()"
   ]
  },
  {
   "cell_type": "code",
   "execution_count": null,
   "metadata": {},
   "outputs": [],
   "source": [
    "# Se cuenta con el nivel diversificado\n",
    "data['NIVEL'].unique()"
   ]
  },
  {
   "cell_type": "code",
   "execution_count": null,
   "metadata": {},
   "outputs": [],
   "source": [
    "# Se cuenta con los sectores especificos\n",
    "data['SECTOR'].unique()"
   ]
  },
  {
   "cell_type": "code",
   "execution_count": null,
   "metadata": {},
   "outputs": [],
   "source": [
    "# Se cuenta con las areas especificas\n",
    "data['AREA'].unique()"
   ]
  },
  {
   "cell_type": "code",
   "execution_count": null,
   "metadata": {},
   "outputs": [],
   "source": [
    "# Se cuenta con los estatus especificos\n",
    "data['STATUS'].unique()"
   ]
  },
  {
   "cell_type": "code",
   "execution_count": null,
   "metadata": {},
   "outputs": [],
   "source": [
    "# Se cuenta con las modalidades especificas\n",
    "data['MODALIDAD'].unique()"
   ]
  },
  {
   "cell_type": "code",
   "execution_count": null,
   "metadata": {},
   "outputs": [],
   "source": [
    "# Se cuenta con las jornadas especificas\n",
    "data['JORNADA'].unique()"
   ]
  },
  {
   "cell_type": "code",
   "execution_count": null,
   "metadata": {},
   "outputs": [],
   "source": [
    "# Se cuenta con 21 departamentos. 4 sectores de Guatemala. 1 sector extra de Quiche\r\n",
    "data['DEPARTAMENTAL'].unique()"
   ]
  },
  {
   "cell_type": "markdown",
   "metadata": {},
   "source": [
    "### Datos a limpiar en la columna direccion\n",
    "Aparecen los siguientes errores:\n",
    "    * avaenida\n",
    "    * av. sera cambiado por avenida\n",
    "    * 3ra. sera cambiado por 3a.\n",
    "    * 1a sera cambiado por 1a.\n",
    "    * Comillas simples seran cambiadas a comillas dobles\n",
    "    * 11avenida\n",
    "    * 1a, sera cambiado por 1a.\n",
    "    * 5ta / 5ta. sera cambiado por 3a.\n",
    "    "
   ]
  },
  {
   "cell_type": "markdown",
   "metadata": {},
   "source": [
    "LIMPIEZA DE AVENIDAS"
   ]
  },
  {
   "cell_type": "code",
   "execution_count": null,
   "metadata": {},
   "outputs": [],
   "source": [
    "def changeAvenueShort(avenue):\n",
    "    try:\n",
    "        splitAvenue = avenue.split()\n",
    "        for i in range(len(splitAvenue)):\n",
    "                word = splitAvenue[i]\n",
    "                if (\"av\" in word):\n",
    "                    # ej. ave.1, av1\n",
    "                    match1 = re.match(r\"([a-z]+)(.*?)([0-9]+)\", word, re.I)\n",
    "                    # ej.  2avenida, 2avenida\n",
    "                    match2 = re.match(r\"([0-9]+)([a-z]+)\", word, re.I)\n",
    "                    if match1:\n",
    "                        items = list(match1.groups())\n",
    "                        str_list = list(filter(None, items)) # Remove empty spaces\n",
    "                        '''\n",
    "                        ['avenida', '1']\n",
    "                        ['av', '.-', '1']\n",
    "                        ['avenida', '4']\n",
    "                        ['av', '.', '15']\n",
    "                        '''\n",
    "                        str_list[0] = 'av.'\n",
    "                        splitAvenue[i] = str_list[0] + ' ' + str_list[len(str_list) - 1]\n",
    "                    if match2 and '.avenida' not in word and len(word) < 11 and word != '5a.av.zona' and word != '2a.av.':\n",
    "                        items = list(match2.groups())\n",
    "                        str_list = list(filter(None, items)) # Remove empty spaces\n",
    "                        '''\n",
    "                        ['11', 'avenida']\n",
    "                        ['3', 'avenida']    \n",
    "                        ['4', 'av']\n",
    "                        ['5', 'a']\n",
    "                        ['6', 'av']\n",
    "                        '''\n",
    "                        str_list[1] = 'av.'\n",
    "                        splitAvenue[i] = str_list[0] + ' ' + str_list[1]\n",
    "                    elif match2:\n",
    "                        '''\n",
    "                        6a.avenida\n",
    "                        5a.avenida\n",
    "                        6a.avenida\n",
    "                        9na.avenida\n",
    "                        1a.avenida\n",
    "                        1a.avenida\n",
    "                        1ra.ave.7-46\n",
    "                        1ra.ave.7-46\n",
    "                        1ra.ave.7-46\n",
    "                        1ra.av.2da.calle\n",
    "                        3ra.av.5-60\n",
    "                        3ra.av.5-60\n",
    "                        10calle3ra.ave.\n",
    "                        5ta..avenida,\n",
    "                        5a.av.zona\n",
    "                        5a.av.zona\n",
    "                        10m.av.zona\n",
    "                        1ra.avenida\n",
    "                        1ra.avenida\n",
    "                        1ra.avenida\n",
    "                        1ra.avenida\n",
    "                        2a.av.\n",
    "                        '''\n",
    "                        split2 = word.split('.')\n",
    "                        for i in range(len(split2)):\n",
    "                            if \"av\" in split2[i]:\n",
    "                                split2[i] = \"av.\"\n",
    "\n",
    "                        \n",
    "                        splitAvenue[i] = ' '.join(split2)\n",
    "                    if not match1 and not match2:\n",
    "                        if (word[0] == 'a' and word != 'aviacion'):\n",
    "                            splitAvenue[i] = 'av.'\n",
    "                        elif (word == '.av.sur'):\n",
    "                            splitAvenue[i] = 'av. sur.'\n",
    "                        else:\n",
    "                            '''\n",
    "                            # Ignore: lavarreda, aviacion,  claveles, cañaveral, bravo, maravillas, pavón\n",
    "                            # Ignore: navarra, pavon,  javier, primavera, brava, javia, navidad\n",
    "                            # Ignore: pavarrotti, xecanchavox\n",
    "                            '''\n",
    "        return ' '.join(splitAvenue)\n",
    "    except:\n",
    "        '''\n",
    "        nan\n",
    "        '''\n",
    "        return avenue\n"
   ]
  },
  {
   "cell_type": "code",
   "execution_count": null,
   "metadata": {},
   "outputs": [],
   "source": [
    "data = data.replace('nan', np.nan)\n",
    "# pd.set_option(\"display.max_rows\", None, \"display.max_columns\", None)\n",
    "\n",
    "for index, row in data.iterrows():\n",
    "    # row[\"DIRECCION\"] = changeAvenueShort(row[\"DIRECCION\"])\n",
    "    try:\n",
    "        if ('km' in row['DIRECCION']):\n",
    "            if ('km.' not in row[\"DIRECCION\"]):\n",
    "                row[\"DIRECCION\"] = row[\"DIRECCION\"].replace('km', 'km.')\n",
    "\n",
    "            if (re.match(r\"km\\.[0-9]\", row[\"DIRECCION\"], re.I) is not None):\n",
    "                # ej. km.2 km.209.5\n",
    "                row[\"DIRECCION\"] = row[\"DIRECCION\"].replace('km.', 'km. ')\n",
    "\n",
    "        if ('calle' in row['DIRECCION']):\n",
    "            if (re.match(r\"[0-9]a.\", row[\"DIRECCION\"], re.I)): continue\n",
    "\n",
    "            match1 = re.search(r\"[0-9]+ calle\", row[\"DIRECCION\"], re.I)             # 31 calle\n",
    "            match2 = re.search(r\"[0-9]+[a-z]+. calle\", row[\"DIRECCION\"], re.I)      # 3ra. calle\n",
    "            match3 = re.search(r\"[0-9]+ª. calle\", row[\"DIRECCION\"], re.I)           # 3ª. calle\n",
    "            match4 = re.search(r\"[0-9]+[a-z]+ calle\", row[\"DIRECCION\"], re.I)       # 3ra calle\n",
    "            match5 = re.search(r\"[0-9]+[a-z]+.calle\", row[\"DIRECCION\"], re.I)        # 3ra.calle\n",
    "\n",
    "            if (\n",
    "                match1 is not None or\n",
    "                match2 is not None or\n",
    "                match3 is not None or\n",
    "                match4 is not None or\n",
    "                match5 is not None\n",
    "            ):\n",
    "                start, end = (0, 0)\n",
    "                if (match1 is not None): start, end =  match1.span()\n",
    "                if (match2 is not None): start, end =  match2.span()\n",
    "                if (match3 is not None): start, end =  match3.span()\n",
    "                if (match4 is not None): start, end =  match4.span()\n",
    "                if (match5 is not None): start, end =  match5.span()\n",
    "                \n",
    "                calle = row['DIRECCION'][start:end]\n",
    "                nstart, nend = re.match(r\"[0-9]+\", calle, re.I).span()\n",
    "                temp = calle[nstart:nend] + 'a. calle'\n",
    "                row['DIRECCION'] = row['DIRECCION'].replace(row['DIRECCION'][start:end], temp)\n",
    "\n",
    "            match = re.search(r\"calle [0-9]+\", row[\"DIRECCION\"], re.I)           # calle 1\n",
    "            if (match is not None):\n",
    "                start, end = match.span()\n",
    "                calle = row['DIRECCION'][start:end]\n",
    "                temp = calle.split(' ')[1] + 'a. calle'\n",
    "                row['DIRECCION'] = row['DIRECCION'].replace(row['DIRECCION'][start:end], temp)\n",
    "            \n",
    "            # Camba segunda por 2a. y tercera por 3a.\n",
    "            if ('segunda' in row['DIRECCION'] or 'tercera' in row['DIRECCION']):\n",
    "                row['DIRECCION'] = row['DIRECCION'].replace('segunda', '2a.')\n",
    "                row['DIRECCION'] = row['DIRECCION'].replace('tercera', '3a.')\n",
    "\n",
    "            if ('10calle3ra.ave. av.   10calle3ra av.  av. av.' in row['DIRECCION']):\n",
    "                row['DIRECCION'] = '10a. calle 3ra. av.'\n",
    "\n",
    "            if ('callejón' in row['DIRECCION']):\n",
    "                row['DIRECCION'] = row['DIRECCION'].replace('callejón', 'callejon')\n",
    "    \n",
    "        if ('kilómetro' in row['DIRECCION'] or 'kilometro' in row['DIRECCION']):\n",
    "            row['DIRECCION'] = row['DIRECCION'].replace('kilómetro', 'km.')\n",
    "            row['DIRECCION'] = row['DIRECCION'].replace('kilometro', 'km.')\n",
    "    except:\n",
    "        continue\n"
   ]
  },
  {
   "cell_type": "markdown",
   "metadata": {},
   "source": [
    "### Datos a limpiar en la columna supervisor\n",
    "Aparecen los siguientes errores:\n",
    "    * se elimino el distrito\n",
    "    * vacante vacante\n",
    "    * 'nan'\n",
    "    * 'juan carlos morales gonzalez', 'juan carlos morales gonzález',\n",
    "    * 'augusto manuel andres sebastian',  'augusto manuel andrés sebastián',\n"
   ]
  },
  {
   "cell_type": "code",
   "execution_count": null,
   "metadata": {},
   "outputs": [],
   "source": [
    "data['SUPERVISOR'] = data['SUPERVISOR'].str.normalize('NFKD').str.encode('ascii', errors='ignore').str.decode('utf-8')\n",
    "data = data.replace('vacante vacante', np.nan)\n",
    "data = data[data['SUPERVISOR'] != 'se elimino el distrito'] # Si se eliminó, no se necesita la data"
   ]
  },
  {
   "cell_type": "code",
   "execution_count": null,
   "metadata": {},
   "outputs": [],
   "source": [
    "data['SUPERVISOR'].unique()"
   ]
  },
  {
   "cell_type": "code",
   "execution_count": null,
   "metadata": {},
   "outputs": [],
   "source": [
    "data.to_csv('./clean_data.csv', encoding='utf-8', index=False)"
   ]
  }
 ],
 "metadata": {
  "kernelspec": {
   "display_name": "Python 3.10.6 64-bit",
   "metadata": {
    "interpreter": {
     "hash": "6cb11118430048aaffde37140829a96b2f2778371a079ecf7cef1d9eee249f62"
    }
   },
   "name": "python3"
  },
  "language_info": {
   "codemirror_mode": {
    "name": "ipython",
    "version": 3
   },
   "file_extension": ".py",
   "mimetype": "text/x-python",
   "name": "python",
   "nbconvert_exporter": "python",
   "pygments_lexer": "ipython3",
   "version": "3.10.6"
  },
  "orig_nbformat": 4,
  "vscode": {
   "interpreter": {
    "hash": "0a8e74bc410295dd7b3e2a92a04bda485b935e7c35103812674b9cdd1b25ea1a"
   }
  }
 },
 "nbformat": 4,
 "nbformat_minor": 2
}